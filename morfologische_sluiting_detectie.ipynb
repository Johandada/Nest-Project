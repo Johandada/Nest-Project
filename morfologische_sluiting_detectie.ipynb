{
 "cells": [
  {
   "cell_type": "markdown",
   "id": "1793cb0a",
   "metadata": {},
   "source": [
    "#### Importeer bibliotheken"
   ]
  },
  {
   "cell_type": "code",
   "execution_count": null,
   "id": "7d282083",
   "metadata": {},
   "outputs": [],
   "source": [
    "import cv2\n",
    "import matplotlib.pyplot as plt\n",
    "import numpy as np\n"
   ]
  },
  {
   "cell_type": "markdown",
   "id": "bc509bba",
   "metadata": {},
   "source": [
    "#### Laad de geveltekening in\n",
    "De afbeelding wordt geladen met alpha-kanaal als dat beschikbaar is. De afmetingen worden weergegeven"
   ]
  },
  {
   "cell_type": "code",
   "execution_count": null,
   "id": "5e3fb866",
   "metadata": {},
   "outputs": [],
   "source": [
    "# Lees de afbeelding in zonder wijzigingen (inclusief alpha-kanaal als dat bestaat)\n",
    "img = cv2.imread(r\"Data_nest_uitgesneden\\Data_nest_uitgesneden\\half_vrijstaand_type_e (1).png\", cv2.IMREAD_UNCHANGED)\n",
    "print(f\"Afbeelding geladen. Formaat: {img.shape}\")\n",
    "\n",
    "# # # Lees de afbeelding in zonder wijzigingen (inclusief alpha-kanaal als dat bestaat)\n",
    "# img = cv2.imread(r\"Data_nest_uitgesneden\\rug_rug (4).png\", cv2.IMREAD_UNCHANGED)\n",
    "# print(f\"Afbeelding geladen. Formaat: {img.shape}\")"
   ]
  },
  {
   "cell_type": "markdown",
   "id": "32fa8591",
   "metadata": {},
   "source": [
    "#### Toon de originele geveltekening"
   ]
  },
  {
   "cell_type": "code",
   "execution_count": null,
   "id": "ae157a29",
   "metadata": {},
   "outputs": [],
   "source": [
    "img_rgb = cv2.cvtColor(img, cv2.COLOR_BGR2RGB) # Zet BGR naar RGB om correct weer te geven met matplotlib\n",
    "# Toon de originele afbeelding \n",
    "plt.imshow(img_rgb)\n",
    "plt.title(\"Originele Geveltekening\")\n",
    "plt.axis('off')\n",
    "plt.show()"
   ]
  },
  {
   "cell_type": "markdown",
   "id": "2f2ee6f0",
   "metadata": {},
   "source": [
    "#### Zet om naar grijswaarden\n",
    "Voor randdetectie is kleurinformatie niet nodig; grijswaarden zijn voldoende"
   ]
  },
  {
   "cell_type": "code",
   "execution_count": null,
   "id": "f1e6fa62",
   "metadata": {},
   "outputs": [],
   "source": [
    "gray = cv2.cvtColor(img, cv2.COLOR_BGR2GRAY)\n",
    "\n",
    "plt.imshow(gray, cmap='gray')\n",
    "plt.title(\"Grijswaardenversie\")\n",
    "plt.axis('off')\n",
    "plt.show()"
   ]
  },
  {
   "cell_type": "markdown",
   "id": "d24f662f",
   "metadata": {},
   "source": [
    "#### Gaussian Blur om ruis te verwijderen\n",
    "Verzacht het beeld, zodat de randdetectie betrouwbaarder wordt\n",
    "\n"
   ]
  },
  {
   "cell_type": "code",
   "execution_count": null,
   "id": "176764c9",
   "metadata": {},
   "outputs": [],
   "source": [
    "blur = cv2.GaussianBlur(gray, (13, 13), 2.2)\n",
    "\n",
    "plt.imshow(blur, cmap='gray')\n",
    "plt.title(\"Na Gaussian Blur\")\n",
    "plt.axis('off')\n",
    "plt.show()"
   ]
  },
  {
   "cell_type": "markdown",
   "id": "c3d35b79",
   "metadata": {},
   "source": [
    "#### Voer Canny-randdetectie uit\n",
    "Zoek naar sterke gradiënten (overgangen), die doorgaans randen aanduiden"
   ]
  },
  {
   "cell_type": "code",
   "execution_count": null,
   "id": "35708020",
   "metadata": {},
   "outputs": [],
   "source": [
    "edges = cv2.Canny(blur, 50, 150)\n",
    "\n",
    "plt.imshow(edges, cmap='gray')\n",
    "plt.title(\"Canny Randen\")\n",
    "plt.axis('off')\n",
    "plt.show()"
   ]
  },
  {
   "cell_type": "markdown",
   "id": "f7e1f744",
   "metadata": {},
   "source": [
    "#### Voer morfologische sluiting uit\n",
    "Deze stap helpt om onderbroken randen te verbinden en kleine gaten te vullen"
   ]
  },
  {
   "cell_type": "markdown",
   "id": "1cd50bec",
   "metadata": {},
   "source": [
    "#### Effect van Morfologische Sluiting\n",
    "- Doel: Vult gaten en verwijdert inkepingen in randen.\n",
    "\n",
    "- Kernel: np.ones((30, 30), np.uint8)\n",
    "Een matrix van 30x30 enen (vierkant structuurelement).\n",
    "\n",
    "- Grootte-effect:\n",
    "\n",
    "    - Grote kernels vullen grotere gaten.\n",
    "\n",
    "    - Kleine kernels behouden details."
   ]
  },
  {
   "cell_type": "code",
   "execution_count": null,
   "id": "d47c1adf",
   "metadata": {},
   "outputs": [],
   "source": [
    "# # Morfologische sluiting om gaten te vullen\n",
    "kernel = np.ones((50, 50), np.uint8) # kernel: Een structurerend element dat bepaalt hoe de operatie wordt toegepast. In dit geval is het een vierkante kernel van 30×30 pixels.\n",
    "\n",
    "closed = cv2.morphologyEx(edges, cv2.MORPH_CLOSE, kernel) #MORPH_CLOSE:Dit specificeert het type morfologische operatie dat we willen uitvoeren, in dit geval 'sluiting' (closing).\n",
    "# # print(closed)\n",
    "plt.imshow(closed, cmap='gray')\n",
    "plt.title(\"Canny Randen\")\n",
    "plt.axis('off')\n",
    "plt.show()"
   ]
  },
  {
   "cell_type": "markdown",
   "id": "8dd4428a",
   "metadata": {},
   "source": [
    "#### Contourdetectie en objectclassificatie\n",
    "We vinden de contouren van objecten in de afbeelding (zoals ramen en deuren), bepalen hun grootte en aspect ratio en classificeren ze. Objecten worden met rechthoeken en labels op de afbeelding getekend."
   ]
  },
  {
   "cell_type": "code",
   "execution_count": null,
   "id": "46d21d2c",
   "metadata": {},
   "outputs": [],
   "source": [
    "# Vind contouren\n",
    "contours, _ = cv2.findContours(closed, cv2.RETR_EXTERNAL, cv2.CHAIN_APPROX_SIMPLE)\n",
    "\n",
    "# Kopie van de originele RGB afbeelding om rechthoeken op te tekenen\n",
    "output_img = img_rgb.copy()\n",
    "\n",
    "\n",
    "# Bepaal eerst de grootste contour\n",
    "largest_cnt = max(contours, key=lambda c: cv2.boundingRect(c)[2] * cv2.boundingRect(c)[3])\n",
    "\n",
    "largest_area = cv2.boundingRect(largest_cnt)[2] * cv2.boundingRect(largest_cnt)[3]\n",
    "min_area_deur = 5000\n",
    "max_area_deur = 20000\n",
    "min_area_raam = 1000\n",
    "max_area_raam = 5000\n",
    "\n",
    "for cnt in contours:\n",
    "    x, y, w, h = cv2.boundingRect(cnt)\n",
    "    area = w * h\n",
    "    aspect_ratio = w / h if h != 0 else 0\n",
    "\n",
    "\n",
    "    if cnt is largest_cnt:\n",
    "        label = \"Huis\"\n",
    "        color = (0, 200, 255)  # blauw\n",
    "    elif min_area_deur < area < max_area_deur:\n",
    "        label = \"Deur\"\n",
    "        color = (0, 255, 0)  # groen\n",
    "    elif min_area_raam < area < max_area_raam:\n",
    "        label = \"Raam\"\n",
    "        color = (255, 165, 0)  # oranje\n",
    "    else:\n",
    "        continue  # negeer kleine objecten\n",
    "\n",
    "    # Teken rechthoek en label\n",
    "    cv2.rectangle(output_img, (x, y), (x + w, y + h), color, 3)\n",
    "    cv2.putText(output_img, label, (x, y - 10), cv2.FONT_HERSHEY_SIMPLEX, 0.9, color, 2)\n",
    "\n",
    "# Toon resultaat\n",
    "plt.figure(figsize=(10, 10))\n",
    "plt.imshow(output_img)\n",
    "plt.title(\"Gedetecteerde Objecten\")\n",
    "plt.axis('off')\n",
    "plt.show()\n"
   ]
  },
  {
   "cell_type": "markdown",
   "id": "d737f7ea",
   "metadata": {},
   "source": [
    "#### Voorbeeld\n",
    "Effect van Morfologische sluiting op vormdetectie"
   ]
  },
  {
   "cell_type": "code",
   "execution_count": null,
   "metadata": {},
   "outputs": [],
   "source": [
    "# Stap 1: Maak een testafbeelding met rechthoeken en cirkels\n",
    "img = np.zeros((400, 400), dtype=np.uint8)\n",
    "\n",
    "# Teken witte vormen\n",
    "cv2.rectangle(img, (50, 50), (150, 150), 255, -1)    # Vierkant (want breedte=hoogte)\n",
    "cv2.rectangle(img, (200, 50), (300, 200), 255, -1)   # Rechthoek\n",
    "cv2.circle(img, (100, 300), 40, 255, -1)             # Grote cirkel (wit)\n",
    "\n",
    "# Onregelmatige vierhoek\n",
    "pts = np.array([[250, 200], [320, 240], [310, 340], [210, 330]], np.int32)\n",
    "pts = pts.reshape((-1, 1, 2))\n",
    "cv2.fillPoly(img, [pts], 255)\n",
    "\n",
    "# Voeg gaten toe in alle vormen (zwarte cirkels)\n",
    "cv2.circle(img, (100, 100), 20, 0, -1)     # Gat in vierkant\n",
    "cv2.circle(img, (250, 225), 25, 0, -1)     # Gat in rechthoek\n",
    "cv2.circle(img, (265, 270), 15, 0, -1)     # Gat in vierhoek\n",
    "cv2.circle(img, (100, 300), 15, 0, -1)     # Gat in grote cirkel\n",
    "\n",
    "# Toon de originele afbeelding (zonder tekst)\n",
    "plt.figure(figsize=(12, 4))\n",
    "plt.subplot(1, 3, 1)\n",
    "plt.imshow(img, cmap='gray', vmin=0, vmax=255)\n",
    "plt.title(\"1. Origineel (met gaten)\")\n",
    "plt.axis('off')\n",
    "\n",
    "# Stap 2: Morfologische sluiting\n",
    "kernel = np.ones((25, 40), np.uint8)\n",
    "img_closed = cv2.morphologyEx(img, cv2.MORPH_CLOSE, kernel)\n",
    "\n",
    "plt.subplot(1, 3, 2)\n",
    "plt.imshow(img_closed, cmap='gray', vmin=0, vmax=255)\n",
    "plt.title(\"2. Na Morfsluiting (gaten dicht)\")\n",
    "plt.axis('off')\n",
    "\n",
    "# Stap 3: Detecteer en label rechthoeken (zonder tekstlabels)\n",
    "output_detected = cv2.cvtColor(img_closed, cv2.COLOR_GRAY2BGR)\n",
    "contours, _ = cv2.findContours(img_closed, cv2.RETR_EXTERNAL, cv2.CHAIN_APPROX_SIMPLE)\n",
    "\n",
    "for cnt in contours:\n",
    "    approx = cv2.approxPolyDP(cnt, 0.02 * cv2.arcLength(cnt, True), True)\n",
    "    x, y, w, h = cv2.boundingRect(cnt)\n",
    "    \n",
    "    if len(approx) == 4 and w * h > 1000:\n",
    "        # Teken alleen de bounding box zonder label\n",
    "        cv2.rectangle(output_detected, (x, y), (x+w, y+h), (0, 255, 0), 2)\n",
    "\n",
    "plt.subplot(1, 3, 3)\n",
    "plt.imshow(cv2.cvtColor(output_detected, cv2.COLOR_BGR2RGB))\n",
    "plt.title(\"3. Gedetecteerde Rechthoeken/Vierkanten\")\n",
    "plt.axis('off')\n",
    "\n",
    "plt.tight_layout()\n",
    "plt.show()"
   ]
  },
  {
   "cell_type": "markdown",
   "id": "fa1559f9",
   "metadata": {},
   "source": [
    "#### Uitleg\n",
    "\n",
    "In de originele afbeelding zijn vier witte vormen te zien: een vierkant, een rechthoek, een cirkel en een onregelmatige vierhoek. In elk van deze vormen is een zwart gat toegevoegd om een realistisch scenario te simuleren waarin er openingen of beschadigingen aanwezig zijn.\n",
    "\n",
    "Na het toepassen van een **morfologische sluiting** worden deze gaten succesvol opgevuld. Hierdoor lijken de vormen weer volledig gesloten, wat gewenst is bij beeldverwerking.\n",
    "\n",
    "Echter ontstaat er een probleem: sommige vormen liggen dicht bij elkaar. Door de gekozen grootte van de kernel worden niet alleen de gaten opgevuld, maar worden ook twee afzonderlijke vormen (de rechthoek en de onregelmatige vierhoek) per ongeluk met elkaar verbonden. Hierdoor ziet het algoritme dit als **één enkele grote vorm** in plaats van twee losse objecten.\n",
    "\n",
    "Omdat het systeem de vormen classificeert op basis van hun **oppervlakte** en **verhouding tussen breedte en hoogte (aspect ratio)**, herkent het de gecombineerde vorm niet meer als een vierkant of rechthoek. De oorspronkelijke logica werkt dus niet meer correct doordat de sluiting de structuur van de afbeelding heeft veranderd."
   ]
  }
 ],
 "metadata": {
  "kernelspec": {
   "display_name": "Python 3",
   "language": "python",
   "name": "python3"
  },
  "language_info": {
   "codemirror_mode": {
    "name": "ipython",
    "version": 3
   },
   "file_extension": ".py",
   "mimetype": "text/x-python",
   "name": "python",
   "nbconvert_exporter": "python",
   "pygments_lexer": "ipython3",
   "version": "3.10.17"
  }
 },
 "nbformat": 4,
 "nbformat_minor": 5
}
