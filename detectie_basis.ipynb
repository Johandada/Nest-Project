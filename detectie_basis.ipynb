{
 "cells": [
  {
   "cell_type": "markdown",
   "id": "0f4430f3",
   "metadata": {},
   "source": [
    "## Importeer bibliotheken"
   ]
  },
  {
   "cell_type": "code",
   "execution_count": null,
   "id": "c7f1d9c9",
   "metadata": {},
   "outputs": [],
   "source": [
    "import cv2\n",
    "import matplotlib.pyplot as plt\n",
    "import numpy as np"
   ]
  },
  {
   "cell_type": "markdown",
   "id": "2a193fe5",
   "metadata": {},
   "source": [
    "## Laad de geveltekening in\n",
    "De afbeelding wordt geladen met alpha-kanaal als dat beschikbaar is. De afmetingen worden weergegeven"
   ]
  },
  {
   "cell_type": "code",
   "execution_count": null,
   "id": "2f5586eb",
   "metadata": {},
   "outputs": [],
   "source": [
    "## half_vrijstaand_type_e\n",
    "\n",
    "img = cv2.imread(\"Data_nest_uitgesneden\\half_vrijstaand_type_e (1).png\")\n",
    "img = cv2.imread(\"Data_nest_uitgesneden\\half_vrijstaand_type_e (4).png\")"
   ]
  },
  {
   "cell_type": "markdown",
   "id": "b7195ade",
   "metadata": {},
   "source": [
    "## Toon de originele geveltekening"
   ]
  },
  {
   "cell_type": "code",
   "execution_count": null,
   "id": "5a1bcd90",
   "metadata": {},
   "outputs": [],
   "source": [
    "# Converteer de afbeelding naar RGB voor correcte weergave met matplotlib\n",
    "img_rgb = cv2.cvtColor(img, cv2.COLOR_BGR2RGB)\n",
    "\n",
    "# Toon de originele geveltekening\n",
    "plt.imshow(img_rgb)\n",
    "plt.title(\"Originele Geveltekening\")\n",
    "plt.axis('off')\n",
    "plt.show()"
   ]
  },
  {
   "cell_type": "markdown",
   "id": "b59e80a0",
   "metadata": {},
   "source": [
    "## Zet afbeelding om naar grijswaarden\n",
    "\n",
    "Voor veel beeldverwerkingstaken zoals randdetectie is kleurinformatie niet nodig. \n",
    "Door de afbeelding om te zetten naar grijswaarden:\n",
    "\n",
    "- Verminderen we de hoeveelheid gegevens (van 3 kanalen naar 1).\n",
    "- Worden randen en vormen duidelijker.\n",
    "- Gaat de verwerking sneller en efficiënter."
   ]
  },
  {
   "cell_type": "code",
   "execution_count": null,
   "id": "da69f853",
   "metadata": {},
   "outputs": [],
   "source": [
    "# Converteer afbeelding naar grijswaarden\n",
    "img_gray = cv2.cvtColor(img, cv2.COLOR_BGR2GRAY)\n",
    "\n",
    "# Toon grijswaardenafbeelding\n",
    "plt.imshow(img_gray, cmap='gray')\n",
    "plt.title(\"Grijswaardenversie\")\n",
    "plt.axis('off')\n",
    "plt.show()"
   ]
  },
  {
   "cell_type": "markdown",
   "id": "90e9d0af",
   "metadata": {},
   "source": [
    "## Randdetectie met Canny\n",
    "\n",
    "We passen de Canny-algoritme toe op de grijswaardenversie van de afbeelding om de randen te detecteren.  \n",
    "Dit helpt bij het isoleren van structuren zoals muren, ramen en deuren.  \n",
    "\n",
    "De gekozen drempelwaarden `(50, 150)` bepalen de gevoeligheid van de detectie:\n",
    "\n",
    "- Waarden onder `50` worden als geen rand beschouwd.\n",
    "- Waarden boven `150` worden altijd als rand geaccepteerd.\n",
    "- Waarden daartussen worden alleen als rand gezien als ze verbonden zijn met sterke randen."
   ]
  },
  {
   "cell_type": "code",
   "execution_count": null,
   "id": "1cde2179",
   "metadata": {},
   "outputs": [],
   "source": [
    "# Pas Canny edge detectie toe\n",
    "edges = cv2.Canny(img_gray, threshold1=50, threshold2=150)\n",
    "\n",
    "# Toon het resultaat van de edge-detectie\n",
    "plt.figure(figsize=(10, 6))\n",
    "plt.imshow(edges, cmap='gray')\n",
    "plt.title(\"Canny Edge Detectie\")\n",
    "plt.axis('off')\n",
    "plt.show()"
   ]
  },
  {
   "cell_type": "markdown",
   "id": "addfe907",
   "metadata": {},
   "source": [
    "## Het resultaat\n",
    "\n",
    "De drempelwaarden van **50 en 150** blijken in de praktijk het beste resultaat te geven.  \n",
    "We hebben deze waarden getest op meerdere foto's, en ze leveren consistente detectie op voor zowel ramen als deuren.\n",
    "\n",
    "Wanneer we andere drempelwaarden gebruiken, zien we dat het resultaat soms goed is voor één afbeelding, maar leidt tot fouten bij andere.  \n",
    "Bijvoorbeeld: bij een te lage drempel worden randen van ramen niet goed gedetecteerd, terwijl bij een te hoge drempel kleinere details zoals deuren verloren gaan.\n",
    "\n",
    "Daarom kiezen we deze waarden als standaard, omdat ze het meest betrouwbaar zijn over verschillende gevelafbeeldingen.\n"
   ]
  },
  {
   "cell_type": "markdown",
   "id": "389915c1",
   "metadata": {},
   "source": [
    "## Contourdetectie met `cv2.findContours`\n",
    "\n",
    "### Canny Edge Detectie\n",
    "\n",
    "In deze cel wordt de Canny edge detectie toegepast op de grijswaardenversie van de afbeelding.  \n",
    "De functie `cv2.findContours` wordt vervolgens gebruikt om de randen (contouren) van objecten te vinden in een binaire afbeelding, bijvoorbeeld als resultaat van Canny-edge detectie.  \n",
    "Een **contour** is een reeks coördinaten die gezamenlijk de omtrek van een object vormen.\n",
    "\n",
    "---\n",
    "\n",
    "### Reden voor het gebruik van `RETR_TREE`\n",
    "\n",
    "Het contour-ophaalmodel `cv2.RETR_TREE` haalt niet alleen alle contouren op, maar bewaart ook de **hiërarchische relatie** tussen objecten.  \n",
    "Deze hiërarchie is essentieel bij technische tekeningen, zoals geveltekeningen, waarin structuren elkaar kunnen bevatten:\n",
    "\n",
    "- Hoofdstructuur (zoals een gebouw) wordt als **parent** herkend  \n",
    "- Interne elementen (zoals ramen en deuren) als **children**  \n",
    "- Substructuren (zoals glas in een raam) als **kind van een kind**\n",
    "\n",
    "Op deze manier ontstaat een gestructureerd inzicht dat noodzakelijk is voor een correcte interpretatie van complexe bouwkundige tekeningen.\n",
    "\n",
    "---\n",
    "\n",
    "### Vergelijking met andere modi\n",
    "\n",
    "| Mode            | Aanbevolen | Toelichting                                                                 |\n",
    "|-----------------|------------|------------------------------------------------------------------------------|\n",
    "| `RETR_EXTERNAL` | Nee     | Detecteert alleen buitencontour; interne structuren zoals ramen ontbreken   |\n",
    "| `RETR_LIST`     | Nee     | Levert een lijst van contouren zonder hiërarchie; relatie tussen objecten ontbreekt |\n",
    "| `RETR_CCOMP`    | Nee     | Slechts twee hiërarchische niveaus; onvoldoende voor gedetailleerde tekeningen |\n",
    "| `RETR_TREE`     | Ja      | Volledige hiërarchie; geschikt voor het herkennen van complexe objectstructuren |\n",
    "\n",
    "---"
   ]
  },
  {
   "cell_type": "code",
   "execution_count": null,
   "id": "4d8a11f1",
   "metadata": {},
   "outputs": [],
   "source": [
    "# Zoek contouren in het edge-detectiebeeld\n",
    "contours, hierarchy = cv2.findContours(edges, cv2.RETR_TREE, cv2.CHAIN_APPROX_SIMPLE)\n",
    "\n",
    "# Maak een kopie van de originele afbeelding om contouren op te tekenen\n",
    "img_contours = img_rgb.copy()\n",
    "\n",
    "# Teken bounding boxes rond voldoende grote contouren\n",
    "for cnt in contours:\n",
    "    x, y, w, h = cv2.boundingRect(cnt)\n",
    "    # Filter te kleine contouren weg (ruis)\n",
    "    if w > 20 and h > 20:\n",
    "        cv2.rectangle(img_contours, (x, y), (x + w, y + h), (255, 0, 0), 2)\n",
    "\n",
    "\n",
    "\n",
    "# Plot resultaat\n",
    "plt.figure(figsize=(12, 8))\n",
    "plt.imshow(img_contours)\n",
    "plt.title(\"Gedetecteerde Objecten via Contouren\")\n",
    "plt.axis('off')\n",
    "plt.show()"
   ]
  },
  {
   "cell_type": "markdown",
   "id": "9b2d63b0",
   "metadata": {},
   "source": [
    "## Conclusie: Contourdetectie op gevelafbeelding\n",
    "\n",
    "De contourdetectie met `cv2.findContours` (in combinatie met `RETR_TREE`) resulteert in een gedetailleerde identificatie van objectranden binnen de geveltekening. Er is gekozen om alleen contouren met een minimale breedte en hoogte van 20 pixels weer te geven, om ruis te verminderen.\n",
    "\n",
    "### Observaties\n",
    "\n",
    "- **Hoofdlijnen van ramen en deuren worden correct herkend**, inclusief de onderliggende structuur.\n",
    "- **Meerdere contouren op één object**:\n",
    "  - Sommige ramen en deuren bevatten meerdere rechthoeken, veroorzaakt door lijndetails zoals raamkozijnen of glasverdelingen.\n",
    "- **Contouren in achtergrondobjecten** (zoals de boom links) worden eveneens meegenomen.\n",
    "- **Verbindingen tussen muur en dak** zorgen voor grotere contouren die meerdere elementen tegelijk omhullen.\n",
    "- **Geen semantisch onderscheid**: het algoritme herkent vormen, maar weet niet of het om een raam, deur of boomtak gaat.\n",
    "\n",
    "### Algemene beoordeling\n",
    "\n",
    "De `RETR_TREE`-structuur is effectief voor het reconstrueren van hiërarchieën in bouwkundige tekeningen. Echter, voor nauwkeurige objectclassificatie is aanvullende filtering of contextuele interpretatie nodig.\n"
   ]
  }
 ],
 "metadata": {
  "kernelspec": {
   "display_name": "Python 3",
   "language": "python",
   "name": "python3"
  },
  "language_info": {
   "codemirror_mode": {
    "name": "ipython",
    "version": 3
   },
   "file_extension": ".py",
   "mimetype": "text/x-python",
   "name": "python",
   "nbconvert_exporter": "python",
   "pygments_lexer": "ipython3",
   "version": "3.12.7"
  }
 },
 "nbformat": 4,
 "nbformat_minor": 5
}
