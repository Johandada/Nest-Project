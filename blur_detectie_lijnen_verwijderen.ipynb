{
 "cells": [
  {
   "cell_type": "markdown",
   "id": "c81e9923",
   "metadata": {},
   "source": [
    "## Importeer benodigde bibliotheken"
   ]
  },
  {
   "cell_type": "code",
   "execution_count": null,
   "id": "86d382f4",
   "metadata": {},
   "outputs": [],
   "source": [
    "import cv2\n",
    "import matplotlib.pyplot as plt\n",
    "import numpy as np\n",
    "import cv2"
   ]
  },
  {
   "cell_type": "markdown",
   "id": "8d148014",
   "metadata": {},
   "source": [
    "## Laad de geveltekening in"
   ]
  },
  {
   "cell_type": "code",
   "execution_count": null,
   "id": "00825042",
   "metadata": {},
   "outputs": [],
   "source": [
    "## half_vrijstaand_type_e\n",
    "\n",
    "img = cv2.imread(\"Data_nest_uitgesneden\\half_vrijstaand_type_e (1).png\")\n",
    "# img = cv2.imread(r\"Data_nest_uitgesneden\\half_vrijstaand_type_e (3).png\")\n",
    "# img = cv2.imread(r\"Data_nest_uitgesneden\\half_vrijstaand_type_e (4).png\")"
   ]
  },
  {
   "cell_type": "markdown",
   "id": "6eef2802",
   "metadata": {},
   "source": [
    "## Toon de originele geveltekening\n",
    "\n",
    "We converteren het beeld van BGR (OpenCV-standaard) naar RGB voor correcte weergave in Matplotlib."
   ]
  },
  {
   "cell_type": "code",
   "execution_count": null,
   "id": "b0b68048",
   "metadata": {},
   "outputs": [],
   "source": [
    "# Converteer van BGR (OpenCV) naar RGB (Matplotlib)\n",
    "img_rgb = cv2.cvtColor(img, cv2.COLOR_BGR2RGB)\n",
    "\n",
    "# Toon de afbeelding zonder assen\n",
    "plt.imshow(img_rgb)\n",
    "plt.title(\"Originele Geveltekening\")\n",
    "plt.axis('off')\n",
    "plt.show()"
   ]
  },
  {
   "cell_type": "markdown",
   "id": "3e27f4e4",
   "metadata": {},
   "source": [
    "## Zet afbeelding om naar grijswaarden\n",
    "\n",
    "Voor veel beeldverwerkingstaken zoals randdetectie is kleurinformatie niet nodig. \n",
    "Door de afbeelding om te zetten naar grijswaarden:\n",
    "\n",
    "- Verminderen we de hoeveelheid gegevens (van 3 kanalen naar 1).\n",
    "- Worden randen en vormen duidelijker.\n",
    "- Gaat de verwerking sneller en efficiënter."
   ]
  },
  {
   "cell_type": "code",
   "execution_count": null,
   "id": "f4f0b88b",
   "metadata": {},
   "outputs": [],
   "source": [
    "# Converteer afbeelding naar grijswaarden\n",
    "img_gray = cv2.cvtColor(img, cv2.COLOR_BGR2GRAY)\n",
    "\n",
    "# Toon de grijswaardenafbeelding\n",
    "plt.imshow(img_gray, cmap='gray')\n",
    "plt.title(\"Grijswaardenversie\")\n",
    "plt.axis('off')\n",
    "plt.show()"
   ]
  },
  {
   "cell_type": "markdown",
   "id": "112a5ca1",
   "metadata": {},
   "source": [
    "## Gaussian Blur toepassen om ruis te verminderen\n",
    "\n",
    "We gebruiken een Gaussian Blur om het beeld te vervagen en kleine ruis of details te onderdrukken. \n",
    "Dit zorgt ervoor dat de randdetectie robuuster en minder gevoelig is voor kleine afwijkingen.\n",
    "\n",
    "De gekozen parameters voor de kernelgrootte `(13, 13)` en standaarddeviatie `2` zijn bepaald op basis van visuele inspectie. \n",
    "Er is geen automatische methode toegepast; we hebben geëvalueerd wat subjectief het beste resultaat geeft."
   ]
  },
  {
   "cell_type": "code",
   "execution_count": null,
   "id": "f1a57754",
   "metadata": {},
   "outputs": [],
   "source": [
    "# Pas Gaussian Blur toe om ruis te onderdrukken\n",
    "# De waarden (13, 13) en sigma 2 zijn gekozen op basis van visuele beoordeling.\n",
    "# Ze gaven de meest consistente resultaten voor randdetectie in dit type afbeelding.\n",
    "blur = cv2.GaussianBlur(img_gray, (13, 13), 2)\n",
    "\n",
    "# Toon het vervaagde beeld\n",
    "plt.imshow(blur, cmap='gray')\n",
    "plt.title(\"Na Gaussian Blur\")\n",
    "plt.axis('off')\n",
    "plt.show()"
   ]
  },
  {
   "cell_type": "markdown",
   "id": "dc0e26df",
   "metadata": {},
   "source": [
    "## Voer Canny-randdetectie uit\n",
    "\n",
    "We gebruiken het Canny-algoritme om randen te detecteren in het vervaagde beeld. Canny werkt in meerdere stappen:\n",
    "\n",
    "- Het berekent de gradiënten (sterke helderheidsveranderingen) in het beeld.\n",
    "- Alleen overgangen die binnen twee drempelwaarden vallen, worden als randen herkend.\n",
    "- Dankzij deze aanpak is Canny effectief in het vinden van echte randen en relatief ongevoelig voor ruis — vooral na het toepassen van een Gaussian Blur.\n",
    "\n",
    "De gebruikte drempelwaarden `(50, 150)` zijn gekozen op basis van visuele inspectie. Er is geen automatische optimalisatie toegepast; we hebben geëvalueerd wat subjectief het meest betrouwbare resultaat geeft voor dit type afbeelding.\n"
   ]
  },
  {
   "cell_type": "code",
   "execution_count": null,
   "id": "3f01cf21",
   "metadata": {},
   "outputs": [],
   "source": [
    "# Pas Canny edge detectie toe op het vervaagde beeld\n",
    "# Thresholds 50 en 150 bepalen welke gradiënten als randen worden beschouwd\n",
    "edges = cv2.Canny(blur, threshold1=50, threshold2=150)\n",
    "\n",
    "# Toon het resultaat van de randdetectie\n",
    "plt.figure(figsize=(10, 6))\n",
    "plt.imshow(edges, cmap='gray')\n",
    "plt.title(\"Canny Edge Detectie\")\n",
    "plt.axis('off')\n",
    "plt.show()\n"
   ]
  },
  {
   "cell_type": "markdown",
   "id": "2c5ecd47",
   "metadata": {},
   "source": [
    "## Contourdetectie en objectclassificatie\n",
    "\n",
    "We detecteren contouren in het binaire randbeeld en classificeren deze op basis van oppervlakte:\n",
    "\n",
    "- De grootste contour wordt beschouwd als het ‘Huis’.\n",
    "- Contouren binnen bepaalde oppervlaktegrenzen worden gelabeld als ‘Deur’ of ‘Raam’.\n",
    "- Elk gedetecteerd object wordt visueel gemarkeerd met een rechthoek en een tekstlabel.\n",
    "\n",
    "Deze aanpak werkt op basis van heuristieken met drempelwaarden. De gekozen waarden zijn bepaald door visuele inspectie van de foto's, waarbij de beste waardes zijn geselecteerd.\n"
   ]
  },
  {
   "cell_type": "code",
   "execution_count": null,
   "id": "2381d197",
   "metadata": {},
   "outputs": [],
   "source": [
    "# Vind contouren in het binaire randbeeld\n",
    "contours, _ = cv2.findContours(edges, cv2.RETR_TREE, cv2.CHAIN_APPROX_SIMPLE)\n",
    "\n",
    "# Maak een kopie van de originele RGB-afbeelding om labels op te tekenen\n",
    "output_img = img_rgb.copy()\n",
    "\n",
    "# Bepaal de grootste contour op basis van oppervlakte\n",
    "largest_cnt = max(contours, key=lambda c: cv2.boundingRect(c)[2] * cv2.boundingRect(c)[3])\n",
    "\n",
    "# Definieer oppervlaktegrenzen voor deur en raam (in pixels)\n",
    "min_area_deur = 5000\n",
    "max_area_deur = 20000\n",
    "min_area_raam = 1000\n",
    "max_area_raam = 5000\n",
    "\n",
    "for cnt in contours:\n",
    "    x, y, w, h = cv2.boundingRect(cnt)\n",
    "    area = w * h\n",
    "    aspect_ratio = w / h if h != 0 else 0\n",
    "\n",
    "    # Classificeer contour op basis van oppervlakte\n",
    "    if cnt is largest_cnt:\n",
    "        label = \"Huis\"\n",
    "        color = (0, 200, 255)  # blauw\n",
    "    elif min_area_deur < area < max_area_deur:\n",
    "        label = \"Deur\"\n",
    "        color = (0, 255, 0)  # groen\n",
    "    elif min_area_raam < area < max_area_raam:\n",
    "        label = \"Raam\"\n",
    "        color = (255, 165, 0)  # oranje\n",
    "    else:\n",
    "        continue  # negeer contouren die niet binnen de criteria vallen\n",
    "\n",
    "    # Teken rechthoek en label\n",
    "    cv2.rectangle(output_img, (x, y), (x + w, y + h), color, 3)\n",
    "    cv2.putText(output_img, label, (x, y - 10), cv2.FONT_HERSHEY_SIMPLEX, 0.9, color, 2)\n",
    "\n",
    "# Toon het resultaat\n",
    "plt.figure(figsize=(10, 10))\n",
    "plt.imshow(output_img)\n",
    "plt.title(\"Gedetecteerde Objecten\")\n",
    "plt.axis('off')\n",
    "plt.show()"
   ]
  },
  {
   "cell_type": "markdown",
   "id": "7e14c6f9",
   "metadata": {},
   "source": [
    "## Conclusie bij de contourdetectie en objectclassificatie\n",
    "\n",
    "Deze code detecteert contouren in een afbeelding met behulp van Canny edge-detectie en `cv2.findContours`.\n",
    "\n",
    "De aanpak is als volgt:\n",
    "\n",
    "- De grootste contour wordt gelabeld als **\"Huis\"**, op basis van de grootste oppervlakte van de bounding box.\n",
    "- Contouren met een oppervlakte binnen bepaalde drempels worden geclassificeerd als **\"Deur\"** of **\"Raam\"**.\n",
    "- Contouren buiten deze drempelwaarden worden genegeerd.\n",
    "- De contouren worden visueel weergegeven met rechthoeken en labels.\n",
    "\n",
    "**Waarom ontstaan zowel juiste als onjuiste objecten?**\n",
    "\n",
    "- De classificatie is uitsluitend gebaseerd op oppervlakte, waardoor objecten met vergelijkbare afmetingen (zoals delen van bomen) foutief worden gelabeld.\n",
    "- Er wordt geen rekening gehouden met vorm, textuur, kleur of positie, wat leidt tot dubbele detecties en verkeerde labels.\n",
    "- Overlapping tussen deur- en raamdetecties kan ontstaan doordat meerdere contouren dicht bij elkaar vallen binnen de drempelwaarden.\n",
    "\n",
    "**Kortom:**\n",
    "\n",
    "De huidige heuristiek werkt voor duidelijk gescheiden objecten, maar is gevoelig voor ruis en fouten bij complexe of overlappende structuren. Ter verbetering voegen we een filter toe op basis van de aspect ratio, wat de onderscheidbaarheid tussen deuren en ramen kan vergroten."
   ]
  },
  {
   "cell_type": "markdown",
   "id": "7783a358",
   "metadata": {},
   "source": [
    "## Contourdetectie en objectclassificatie\n",
    "\n",
    "In deze stap detecteren we contouren in het binaire randbeeld en classificeren we deze op basis van oppervlakte en aspect ratio:\n",
    "\n",
    "- De grootste contour wordt beschouwd als het **Huis**.\n",
    "- Contouren binnen bepaalde oppervlaktegrenzen én met een geschikte **aspect ratio** worden gelabeld als **Deur** of **Raam**.\n",
    "- Elk gedetecteerd object wordt visueel gemarkeerd met een rechthoek en een tekstlabel.\n",
    "\n",
    "De aanpak maakt gebruik van eenvoudige heuristieken op basis van grootte en vormverhouding. Deze drempelwaarden zijn handmatig bepaald door visuele inspectie van de dataset. Hoewel dit in veel gevallen werkt, kent het beperkingen bij overlappende structuren of achtergrondruis.\n"
   ]
  },
  {
   "cell_type": "code",
   "execution_count": null,
   "id": "4f5a03bd",
   "metadata": {},
   "outputs": [],
   "source": [
    "# Vind contouren in het randbeeld\n",
    "contours, _ = cv2.findContours(edges, cv2.RETR_TREE, cv2.CHAIN_APPROX_SIMPLE)\n",
    "\n",
    "# Kopie van de originele RGB-afbeelding om labels te tekenen\n",
    "output_img = img_rgb.copy()\n",
    "\n",
    "# Controleer of er contouren zijn gevonden\n",
    "if contours:\n",
    "    # Bepaal de grootste contour (huis)\n",
    "    largest_cnt = max(contours, key=lambda c: cv2.boundingRect(c)[2] * cv2.boundingRect(c)[3])\n",
    "\n",
    "    # Drempelwaarden voor oppervlakte (in pixels)\n",
    "    min_area_deur = 5000\n",
    "    max_area_deur = 20000\n",
    "    min_area_raam = 1000\n",
    "    max_area_raam = 5000\n",
    "\n",
    "    # Aspect ratio grenzen (breedte / hoogte)\n",
    "    # Voorbeeldwaarden, kunnen worden aangepast\n",
    "    deur_aspect_min, deur_aspect_max = 0.1, 0.7   # deuren zijn vaak smal en hoog\n",
    "    raam_aspect_min, raam_aspect_max = 0.5, 1.2  # ramen zijn vaak vierkant of iets breder\n",
    "\n",
    "    for cnt in contours:\n",
    "        x, y, w, h = cv2.boundingRect(cnt)\n",
    "        area = w * h\n",
    "        aspect_ratio = w / h if h != 0 else 0\n",
    "\n",
    "        # Classificatie op basis van oppervlakte en aspect ratio\n",
    "        if cnt is largest_cnt:\n",
    "            label = \"Huis\"\n",
    "            color = (0, 200, 255)  # blauw\n",
    "        elif min_area_deur < area < max_area_deur and deur_aspect_min < aspect_ratio < deur_aspect_max:\n",
    "            label = \"Deur\"\n",
    "            color = (0, 255, 0)  # groen\n",
    "        elif min_area_raam < area < max_area_raam and raam_aspect_min < aspect_ratio < raam_aspect_max:\n",
    "            label = \"Raam\"\n",
    "            color = (255, 165, 0)  # oranje\n",
    "        else:\n",
    "            continue  # negeer contouren die niet aan de criteria voldoen\n",
    "\n",
    "        # Teken bounding box en label op de afbeelding\n",
    "        cv2.rectangle(output_img, (x, y), (x + w, y + h), color, 3)\n",
    "        cv2.putText(output_img, label, (x, y - 10), cv2.FONT_HERSHEY_SIMPLEX, 0.9, color, 2)\n",
    "\n",
    "# Toon het resultaat\n",
    "plt.figure(figsize=(10, 10))\n",
    "plt.imshow(output_img)\n",
    "plt.title(\"Gedetecteerde Objecten met Aspect Ratio Filter\")\n",
    "plt.axis('off')\n",
    "plt.show()"
   ]
  },
  {
   "cell_type": "markdown",
   "id": "2fbd4173",
   "metadata": {},
   "source": [
    "## Conclusie na toevoegen van aspect ratio filter\n",
    "\n",
    "Door naast oppervlakte ook het **aspect ratio** (breedte/hoogte) te gebruiken, verbetert de classificatie van objecten zoals ramen en deuren aanzienlijk. Deze extra filter helpt om objecten met een vergelijkbare grootte maar een afwijkende vorm — zoals delen van bomen — beter uit te sluiten.\n",
    "\n",
    "Toch blijft de aanpak beperkt en kunnen er nog steeds fouten optreden, omdat:\n",
    "\n",
    "- De classificatie nog steeds uitsluitend op simpele heuristieken gebaseerd is (oppervlakte en aspect ratio).\n",
    "- Complexe vormen, overlappende objecten of onregelmatige contouren moeilijk correct worden geclassificeerd met alleen deze parameters.\n",
    "\n",
    "Kortom, deze verbeterde heuristiek is een stap vooruit, maar voor een robuustere en nauwkeurigere detectie is het model niet genoeg voldoedne hij mist deuren en geeft op deruen soms dubbel ramen \n"
   ]
  },
  {
   "cell_type": "markdown",
   "id": "0ddb8b54",
   "metadata": {},
   "source": [
    "## Korte lijnen detecteren en verwijderen uit edge afbeelding\n",
    "We gebruiken de probabilistische Hough-transformatie om lijnen in het Canny edge beeld te detecteren. Vervolgens verwijderen we korte lijnen die korter zijn dan een vooraf ingestelde drempel, omdat deze meestal ruis of onbelangrijke details vertegenwoordigen. Dit helpt om de contourdetectie nauwkeuriger te maken."
   ]
  },
  {
   "cell_type": "markdown",
   "id": "5b37da37",
   "metadata": {},
   "source": [
    "### Bekijk eerst de edge-afbeelding"
   ]
  },
  {
   "cell_type": "code",
   "execution_count": null,
   "id": "b82d3641",
   "metadata": {},
   "outputs": [],
   "source": [
    "# Toon het resultaat\n",
    "plt.figure(figsize=(10, 6))\n",
    "plt.imshow(edges, cmap='gray')\n",
    "plt.title(\"Canny Edge Detectie\")\n",
    "plt.axis('off')\n",
    "plt.show()"
   ]
  },
  {
   "cell_type": "markdown",
   "id": "f4bab9a7",
   "metadata": {},
   "source": [
    "### Verwijder de korte lijnen"
   ]
  },
  {
   "cell_type": "code",
   "execution_count": null,
   "id": "16c2b2c3",
   "metadata": {},
   "outputs": [],
   "source": [
    "# Parameters voor korte lijn detectie\n",
    "min_line_length = 30  # Lijnen korter dan dit worden verwijderd\n",
    "max_line_gap = 2     # Maximale gap tussen lijnsegmenten om samengevoegd te worden\n",
    "\n",
    "# Detecteer lijnen met probabilistische Hough-transformatie\n",
    "lines = cv2.HoughLinesP(edges, rho=1, theta=np.pi/180, threshold=50,\n",
    "                        minLineLength=1, maxLineGap=max_line_gap)\n",
    "\n",
    "# Maak lege afbeeldingen voor korte lijnen en gefilterde edges\n",
    "short_lines_img = np.zeros_like(edges)\n",
    "filtered_edges = edges.copy()\n",
    "\n",
    "# Verwijder korte lijnen uit de edge afbeelding\n",
    "if lines is not None:\n",
    "    for line in lines:\n",
    "        x1, y1, x2, y2 = line[0]\n",
    "        length = np.sqrt((x2 - x1)**2 + (y2 - y1)**2)\n",
    "        if length < min_line_length:\n",
    "            # Markeer korte lijnen in aparte afbeelding\n",
    "            cv2.line(short_lines_img, (x1, y1), (x2, y2), 255, 1)\n",
    "            # Verwijder korte lijnen uit de originele edges\n",
    "            cv2.line(filtered_edges, (x1, y1), (x2, y2), 0, 1)\n",
    "\n",
    "# Visualiseer originele edges, korte lijnen en gefilterde edges\n",
    "plt.figure(figsize=(15, 5))\n",
    "\n",
    "plt.subplot(1, 3, 1)\n",
    "plt.imshow(edges, cmap='gray')\n",
    "plt.title(\"Originele Edges\")\n",
    "plt.axis('off')\n",
    "\n",
    "plt.subplot(1, 3, 2)\n",
    "plt.imshow(short_lines_img, cmap='gray')\n",
    "plt.title(\"Gedetecteerde Korte Lijnen\")\n",
    "plt.axis('off')\n",
    "\n",
    "plt.subplot(1, 3, 3)\n",
    "plt.imshow(filtered_edges, cmap='gray')\n",
    "plt.title(\"Na Verwijdering van Korte Lijnen\")\n",
    "plt.axis('off')\n",
    "\n",
    "plt.tight_layout()\n",
    "plt.show()"
   ]
  },
  {
   "cell_type": "markdown",
   "id": "7dea69d7",
   "metadata": {},
   "source": [
    "## Conclusie\n",
    "We hebben de parameters van de Hough-transformatie aangepast en getest op meerdere verschillende foto's. De best werkende waarden zijn ingesteld op:\n",
    "\n",
    "min_line_length = 30\n",
    "max_line_gap = 2\n",
    "\n",
    "We kiezen deze instellingen omdat hogere waarden ertoe leiden dat ook belangrijke lijnen, zoals van deuren of ramen, onbedoeld worden verwijderd. Met deze drempels blijft de belangrijke structuur grotendeels behouden, terwijl de meeste korte en irrelevante lijnen succesvol verwijderd worden.\n",
    "\n",
    "Toch zien we dat er nog steeds veel ruis aanwezig is in de afbeelding. De impact van deze stap op de algehele nauwkeurigheid van de objectdetectie blijkt beperkt te zijn."
   ]
  },
  {
   "cell_type": "markdown",
   "id": "acc4c1cc",
   "metadata": {},
   "source": [
    "## Contouren vinden in opgeschoonde edge-afbeelding en objecten labelen\n",
    "Na het verwijderen van korte lijnen uit het edge-beeld, detecteren we opnieuw de contouren in de afbeelding. We classificeren de gedetecteerde contouren vervolgens als huis, deur of raam, op basis van twee eigenschappen:\n",
    "\n",
    "Oppervlakte (area) van de bounding box\n",
    "Aspect ratio (verhouding breedte/hoogte)\n",
    "\n",
    "De grootste contour wordt automatisch als \"Huis\" beschouwd. Andere contouren worden enkel gelabeld als \"Deur\" of \"Raam\" als ze binnen vooraf bepaalde grenzen voor oppervlakte én aspect ratio vallen.\n",
    "\n",
    "Deze extra filters helpen bij het onderdrukken van ruis en irrelevante structuren, zoals takken of schaduwen, die eerder foutief als ramen of deuren werden aangeduid.\n",
    "\n",
    "In de volgende visualisatie zien we het resultaat van deze verbeterde detectiestap, met bounding boxes en labels voor elk herkend object."
   ]
  },
  {
   "cell_type": "code",
   "execution_count": null,
   "id": "82ef59d6",
   "metadata": {},
   "outputs": [],
   "source": [
    "contours, _ = cv2.findContours(filtered_edges, cv2.RETR_TREE, cv2.CHAIN_APPROX_SIMPLE)\n",
    "\n",
    "# Maak kopie van originele afbeelding in kleur\n",
    "output_img = img_rgb.copy()\n",
    "\n",
    "if contours:\n",
    "    # Bepaal grootste contour → dit stellen we gelijk aan het huis\n",
    "    largest_cnt = max(contours, key=lambda c: cv2.boundingRect(c)[2] * cv2.boundingRect(c)[3])\n",
    "    largest_area = cv2.boundingRect(largest_cnt)[2] * cv2.boundingRect(largest_cnt)[3]\n",
    "\n",
    "    # Drempels voor classificatie (aangepast indien nodig)\n",
    "    min_area_deur = 5000\n",
    "    max_area_deur = 20000\n",
    "    min_area_raam = 1000\n",
    "    max_area_raam = 5000\n",
    "\n",
    "    # Aspect ratio ranges (breedte / hoogte)\n",
    "    deur_aspect_min, deur_aspect_max = 0., 0.7  # deuren zijn vaak smal en hoog\n",
    "    raam_aspect_min, raam_aspect_max = 0.5, 1.2  # ramen zijn vaak bijna vierkant\n",
    "\n",
    "    for cnt in contours:\n",
    "        x, y, w, h = cv2.boundingRect(cnt)\n",
    "        area = w * h\n",
    "        aspect_ratio = w / h if h != 0 else 0\n",
    "\n",
    "        # Classificatie op basis van grootte en aspect ratio\n",
    "        if np.array_equal(cnt, largest_cnt):\n",
    "            label = \"Huis\"\n",
    "            color = (0, 200, 255)  # blauw\n",
    "        elif min_area_deur < area < max_area_deur and deur_aspect_min < aspect_ratio < deur_aspect_max:\n",
    "            label = \"Deur\"\n",
    "            color = (0, 255, 0)  # groen\n",
    "        elif min_area_raam < area < max_area_raam and raam_aspect_min < aspect_ratio < raam_aspect_max:\n",
    "            label = \"Raam\"\n",
    "            color = (255, 165, 0)  # oranje\n",
    "        else:\n",
    "            continue  # negeer objecten die niet in de klassen passen\n",
    "\n",
    "        # Teken bounding box en label\n",
    "        cv2.rectangle(output_img, (x, y), (x + w, y + h), color, 3)\n",
    "        cv2.putText(output_img, label, (x, y - 10), cv2.FONT_HERSHEY_SIMPLEX, 0.9, color, 2)\n",
    "\n",
    "# Toon resultaat\n",
    "plt.figure(figsize=(10, 10))\n",
    "plt.imshow(cv2.cvtColor(output_img, cv2.COLOR_BGR2RGB))\n",
    "plt.title(\"Gedetecteerde Objecten (na verwijdering korte lijnen en aspect ratio filter)\")\n",
    "plt.axis('off')\n",
    "plt.show()"
   ]
  },
  {
   "cell_type": "markdown",
   "id": "25940baf",
   "metadata": {},
   "source": [
    "## Conclusie\n",
    "In deze stap is de nauwkeurigheid van de objectdetectie (huis, deur, raam) verbeterd door naast de oppervlakte (area) ook de aspect ratio (breedte/hoogte) toe te voegen als filtercriterium. Dit helpt typische kenmerken van deuren (hoog en smal) en ramen (meer vierkant) beter te onderscheiden.\n",
    "\n",
    "De resultaten laten enige verbetering zien: er zijn minder foutieve detecties van willekeurige objecten. Toch blijven er duidelijke beperkingen zichtbaar:\n",
    "\n",
    "Deuren worden niet altijd correct gedetecteerd — ze worden soms gemist of foutief als raam geclassificeerd.\n",
    "\n",
    "Boomstructuren worden verward met ramen — dit komt door overeenkomende contourvormen en afmetingen.\n",
    "\n",
    "Dubbele detecties — sommige objecten worden meermaals gelabeld (bijv. als zowel raam als deur).\n",
    "\n",
    "Gevoeligheid voor ruis — zoals schaduwen, bladeren of overlappingen die contouren verstoren.\n",
    "\n",
    "Deze problemen tonen de beperkingen aan van een klassieke (rule-based) aanpak gebaseerd op handmatige drempels en eenvoudige geometrische kenmerken.\n",
    "\n",
    "Deze heuristische benadering is onvoldoende robuust voor complexe gevelbeelden. Voor betere prestaties is een data-gedreven methode aanbevolen, zoals machine learning of deep learning, waarbij het model leert van voorbeelden en contextueel onderscheid kan maken tussen objecten."
   ]
  }
 ],
 "metadata": {
  "kernelspec": {
   "display_name": "Python 3",
   "language": "python",
   "name": "python3"
  },
  "language_info": {
   "codemirror_mode": {
    "name": "ipython",
    "version": 3
   },
   "file_extension": ".py",
   "mimetype": "text/x-python",
   "name": "python",
   "nbconvert_exporter": "python",
   "pygments_lexer": "ipython3",
   "version": "3.12.7"
  }
 },
 "nbformat": 4,
 "nbformat_minor": 5
}
