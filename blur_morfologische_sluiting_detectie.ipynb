{
 "cells": [
  {
   "cell_type": "markdown",
   "id": "1793cb0a",
   "metadata": {},
   "source": [
    "## Importeer bibliotheken"
   ]
  },
  {
   "cell_type": "code",
   "execution_count": null,
   "id": "7d282083",
   "metadata": {},
   "outputs": [],
   "source": [
    "import cv2\n",
    "import matplotlib.pyplot as plt\n",
    "import numpy as np"
   ]
  },
  {
   "cell_type": "markdown",
   "id": "bc509bba",
   "metadata": {},
   "source": [
    "## Laad de geveltekening in\n",
    "De afbeelding wordt geladen met alpha-kanaal als dat beschikbaar is. De afmetingen worden weergegeven"
   ]
  },
  {
   "cell_type": "code",
   "execution_count": null,
   "id": "5e3fb866",
   "metadata": {},
   "outputs": [],
   "source": [
    "# Lees de afbeelding in zonder wijzigingen (inclusief alpha-kanaal als dat bestaat)\n",
    "img = cv2.imread(r\"Data_nest_uitgesneden\\half_vrijstaand_type_e (3).png\", cv2.IMREAD_UNCHANGED)\n",
    "print(f\"Afbeelding geladen. Formaat: {img.shape}\")"
   ]
  },
  {
   "cell_type": "markdown",
   "id": "32fa8591",
   "metadata": {},
   "source": [
    "## Toon de originele geveltekening"
   ]
  },
  {
   "cell_type": "code",
   "execution_count": null,
   "id": "ae157a29",
   "metadata": {},
   "outputs": [],
   "source": [
    "# Zet BGR naar RGB om correct weer te geven met matplotlib\n",
    "img_rgb = cv2.cvtColor(img, cv2.COLOR_BGR2RGB) \n",
    "\n",
    "# Toon de originele afbeelding \n",
    "plt.imshow(img_rgb)\n",
    "plt.title(\"Originele Geveltekening\")\n",
    "plt.axis('off')\n",
    "plt.show()"
   ]
  },
  {
   "cell_type": "markdown",
   "id": "2f2ee6f0",
   "metadata": {},
   "source": [
    "## Zet afbeelding om naar grijswaarden\n",
    "\n",
    "Voor veel beeldverwerkingstaken zoals randdetectie is kleurinformatie niet nodig. \n",
    "Door de afbeelding om te zetten naar grijswaarden:\n",
    "\n",
    "- Verminderen we de hoeveelheid gegevens (van 3 kanalen naar 1).\n",
    "- Worden randen en vormen duidelijker.\n",
    "- Gaat de verwerking sneller en efficiënter."
   ]
  },
  {
   "cell_type": "code",
   "execution_count": null,
   "id": "f1e6fa62",
   "metadata": {},
   "outputs": [],
   "source": [
    "# Converteer afbeelding naar grijswaarden\n",
    "gray = cv2.cvtColor(img, cv2.COLOR_BGR2GRAY)\n",
    "\n",
    "# Toon de grijswaardenafbeelding\n",
    "plt.imshow(gray, cmap='gray')\n",
    "plt.title(\"Grijswaardenversie\")\n",
    "plt.axis('off')\n",
    "plt.show()"
   ]
  },
  {
   "cell_type": "markdown",
   "id": "d24f662f",
   "metadata": {},
   "source": [
    "## Gaussian Blur toepassen om ruis te verminderen\n",
    "\n",
    "We gebruiken een Gaussian Blur om het beeld te vervagen en kleine ruis of details te onderdrukken. \n",
    "Dit zorgt ervoor dat de randdetectie robuuster en minder gevoelig is voor kleine afwijkingen.\n",
    "\n",
    "De gekozen parameters voor de kernelgrootte `(13, 13)` en standaarddeviatie `2.2` zijn bepaald op basis van visuele inspectie. \n",
    "Er is geen automatische methode toegepast; we hebben geëvalueerd wat subjectief het beste resultaat geeft."
   ]
  },
  {
   "cell_type": "code",
   "execution_count": null,
   "id": "176764c9",
   "metadata": {},
   "outputs": [],
   "source": [
    "# Pas Gaussian Blur toe op de grijswaardenafbeelding\n",
    "blur = cv2.GaussianBlur(gray, (13, 13), 2.2)\n",
    "\n",
    "# Toon de afbeelding na Gaussian Blur\n",
    "plt.imshow(blur, cmap='gray')\n",
    "plt.title(\"Na Gaussian Blur\")\n",
    "plt.axis('off')\n",
    "plt.show()"
   ]
  },
  {
   "cell_type": "markdown",
   "id": "c3d35b79",
   "metadata": {},
   "source": [
    "## Voer Canny-randdetectie uit\n",
    "\n",
    "We gebruiken het Canny-algoritme om randen te detecteren in het vervaagde beeld. Canny werkt in meerdere stappen:\n",
    "\n",
    "- Het berekent de gradiënten (sterke helderheidsveranderingen) in het beeld.\n",
    "- Alleen overgangen die binnen twee drempelwaarden vallen, worden als randen herkend.\n",
    "- Dankzij deze aanpak is Canny effectief in het vinden van echte randen en relatief ongevoelig voor ruis — vooral na het toepassen van een Gaussian Blur.\n",
    "\n",
    "De gebruikte drempelwaarden `(50, 150)` zijn gekozen op basis van visuele inspectie. Er is geen automatische optimalisatie toegepast; we hebben geëvalueerd wat subjectief het meest betrouwbare resultaat geeft voor dit type afbeelding."
   ]
  },
  {
   "cell_type": "code",
   "execution_count": null,
   "id": "35708020",
   "metadata": {},
   "outputs": [],
   "source": [
    "# Pas Canny edge-detectie toe op de vervaagde afbeelding\n",
    "edges = cv2.Canny(blur, 50, 150)\n",
    "\n",
    "# Toon de gedetecteerde randen\n",
    "plt.imshow(edges, cmap='gray')\n",
    "plt.title(\"Canny Randen\")\n",
    "plt.axis('off')\n",
    "plt.show()"
   ]
  },
  {
   "cell_type": "markdown",
   "id": "4c5d6af4",
   "metadata": {},
   "source": [
    "## Het resultaat\n",
    "\n",
    "We zien dat de ramen onderbroken en niet gesloten zijn door de vervaging in de foto. Hierdoor ontstaan er gaten in de randen die het detectieproces verstoren. Om deze gaten te dichten en de randen te versterken, passen we een morfologische sluitingsbewerking toe. Dit helpt om de structuur van de randen te verbeteren en maakt de segmentatie nauwkeuriger.\n"
   ]
  },
  {
   "cell_type": "markdown",
   "id": "1cd50bec",
   "metadata": {},
   "source": [
    "## Voer morfologische sluiting uit\n",
    "\n",
    "Deze stap helpt om onderbroken randen te verbinden en kleine gaten te vullen\n",
    "\n",
    "#### Effect van morfologische sluiting\n",
    "\n",
    "- **Doel:** Vult gaten en verwijdert inkepingen in randen.\n",
    "- **Kernel:** `np.ones((30, 30), np.uint8)`  \n",
    "  Een matrix van 30×30 enen (vierkant structuurelement).\n",
    "- **Grootte-effect:**  \n",
    "  - Grote kernels vullen grotere gaten.  \n",
    "  - Kleine kernels behouden details.\n"
   ]
  },
  {
   "cell_type": "code",
   "execution_count": null,
   "id": "d47c1adf",
   "metadata": {},
   "outputs": [],
   "source": [
    "# Morfologische sluiting om gaten te vullen\n",
    "kernel = np.ones((50, 50), np.uint8) # kernel: Een structurerend element dat bepaalt hoe de operatie wordt toegepast. In dit geval is het een vierkante kernel van 30×30 pixels.\n",
    "\n",
    "closed = cv2.morphologyEx(edges, cv2.MORPH_CLOSE, kernel) #MORPH_CLOSE:Dit specificeert het type morfologische operatie dat we willen uitvoeren, in dit geval 'sluiting' (closing).\n",
    "# # print(closed)\n",
    "plt.imshow(closed, cmap='gray')\n",
    "plt.title(\"Canny Randen\")\n",
    "plt.axis('off')\n",
    "plt.show()"
   ]
  },
  {
   "cell_type": "markdown",
   "id": "58a8c5d6",
   "metadata": {},
   "source": [
    "## Het resultaat\n",
    "\n",
    "We kunnen visueel zien dat het resultaat is verbeterd: ramen en deuren zijn duidelijk van elkaar te onderscheiden, evenals het hele huis.  \n",
    "De gevel is beter en scherper zichtbaar geworden. De morfologische sluiting levert een goed resultaat op voor deze gevel.\n",
    "\n",
    "Nu is het tijd om de daadwerkelijke detectie uit te voeren en het eindresultaat te beoordelen."
   ]
  },
  {
   "cell_type": "markdown",
   "id": "8dd4428a",
   "metadata": {},
   "source": [
    "## Contourdetectie en objectclassificatie\n",
    "We vinden de contouren van objecten in de afbeelding (zoals ramen en deuren), bepalen hun grootte en aspect ratio en classificeren ze. Objecten worden met rechthoeken en labels op de afbeelding getekend."
   ]
  },
  {
   "cell_type": "code",
   "execution_count": null,
   "id": "46d21d2c",
   "metadata": {},
   "outputs": [],
   "source": [
    "# Vind contouren in het gesloten (closed) beeld\n",
    "contours, _ = cv2.findContours(closed, cv2.RETR_TREE, cv2.CHAIN_APPROX_SIMPLE)\n",
    "\n",
    "# Maak een kopie van de originele RGB-afbeelding om rechthoeken op te tekenen\n",
    "output_img = img_rgb.copy()\n",
    "\n",
    "\n",
    "# Bepaal de grootste contour op basis van oppervlak\n",
    "largest_cnt = max(contours, key=lambda c: cv2.boundingRect(c)[2] * cv2.boundingRect(c)[3])\n",
    "\n",
    "largest_area = cv2.boundingRect(largest_cnt)[2] * cv2.boundingRect(largest_cnt)[3]\n",
    "min_area_deur = 5000\n",
    "max_area_deur = 20000\n",
    "min_area_raam = 1000\n",
    "max_area_raam = 5000\n",
    "\n",
    "for cnt in contours:\n",
    "    x, y, w, h = cv2.boundingRect(cnt)\n",
    "    area = w * h\n",
    "    aspect_ratio = w / h if h != 0 else 0\n",
    "\n",
    "\n",
    "    if cnt is largest_cnt:\n",
    "        label = \"Huis\"\n",
    "        color = (0, 200, 255)  # blauw\n",
    "    elif min_area_deur < area < max_area_deur:\n",
    "        label = \"Deur\"\n",
    "        color = (0, 255, 0)  # groen\n",
    "    elif min_area_raam < area < max_area_raam:\n",
    "        label = \"Raam\"\n",
    "        color = (255, 165, 0)  # oranje\n",
    "    else:\n",
    "        continue  # negeer kleine objecten\n",
    "\n",
    "    # Teken rechthoek en label\n",
    "    cv2.rectangle(output_img, (x, y), (x + w, y + h), color, 3)\n",
    "    cv2.putText(output_img, label, (x, y - 10), cv2.FONT_HERSHEY_SIMPLEX, 0.9, color, 2)\n",
    "\n",
    "# Toon resultaat\n",
    "plt.figure(figsize=(10, 10))\n",
    "plt.imshow(output_img)\n",
    "plt.title(\"Gedetecteerde Objecten\")\n",
    "plt.axis('off')\n",
    "plt.show()"
   ]
  },
  {
   "cell_type": "markdown",
   "id": "c9efe6c6",
   "metadata": {},
   "source": [
    "## Conclusie\n",
    "\n",
    "De detectie van de gevel is correct uitgevoerd en geeft een goed resultaat voor de afbeelding \"`half_vrijstaand_type_e (1).png`\".  \n",
    "Er zijn enkele kleine fouten bij het onderscheiden van ramen en deuren; soms wordt een raam als deur beschouwd. Dit is echter acceptabel zolang het model alle objectvormen kan vinden.\n",
    "\n",
    "Bij het uitvoeren van de detectie op een andere gevel zien we dat het model een slechter resultaat oplevert. Dit is duidelijk te zien aan de hand van de afbeelding \"`half_vrijstaand_type_e (2).png`\".\n",
    "\n",
    "De volgende cel legt uit wat er misgaat en waarom dit gebeurt.\n"
   ]
  },
  {
   "cell_type": "markdown",
   "id": "d737f7ea",
   "metadata": {},
   "source": [
    "## Voorbeeld  \n",
    "### Effect van morfologische sluiting op vormdetectie\n",
    "\n",
    "In dit voorbeeld maken we vier eenvoudige vormen om te illustreren hoe morfologische sluiting werkt.  \n",
    "We doen dit om het effect begrijpelijk te maken, los van de complexiteit van echte gevelafbeeldingen.\n",
    "\n",
    "We voegen bewust gaten toe in de vormen om te simuleren hoe imperfecties in beelden — zoals ruis, beschadigingen of open randen — invloed hebben op de detectie.\n"
   ]
  },
  {
   "cell_type": "code",
   "execution_count": null,
   "metadata": {},
   "outputs": [],
   "source": [
    "# Stap 1: Maak een testafbeelding met rechthoeken en cirkels\n",
    "img = np.zeros((400, 400), dtype=np.uint8)\n",
    "\n",
    "# Teken witte vormen\n",
    "cv2.rectangle(img, (50, 50), (150, 150), 255, -1)    # Vierkant (want breedte=hoogte)\n",
    "cv2.rectangle(img, (200, 50), (300, 200), 255, -1)   # Rechthoek\n",
    "cv2.circle(img, (100, 300), 40, 255, -1)             # Grote cirkel (wit)\n",
    "\n",
    "# Onregelmatige vierhoek\n",
    "pts = np.array([[250, 200], [320, 240], [310, 340], [210, 330]], np.int32)\n",
    "pts = pts.reshape((-1, 1, 2))\n",
    "cv2.fillPoly(img, [pts], 255)\n",
    "\n",
    "# Voeg gaten toe in alle vormen (zwarte cirkels)\n",
    "cv2.circle(img, (100, 100), 20, 0, -1)     # Gat in vierkant\n",
    "cv2.circle(img, (250, 225), 25, 0, -1)     # Gat in rechthoek\n",
    "cv2.circle(img, (265, 270), 15, 0, -1)     # Gat in vierhoek\n",
    "cv2.circle(img, (100, 300), 15, 0, -1)     # Gat in grote cirkel\n",
    "\n",
    "# Toon de originele afbeelding (zonder tekst)\n",
    "plt.figure(figsize=(12, 4))\n",
    "plt.subplot(1, 3, 1)\n",
    "plt.imshow(img, cmap='gray', vmin=0, vmax=255)\n",
    "plt.title(\"1. Origineel (met gaten)\")\n",
    "plt.axis('off')\n",
    "\n",
    "# Stap 2: Morfologische sluiting\n",
    "kernel = np.ones((25, 40), np.uint8)\n",
    "img_closed = cv2.morphologyEx(img, cv2.MORPH_CLOSE, kernel)\n",
    "\n",
    "plt.subplot(1, 3, 2)\n",
    "plt.imshow(img_closed, cmap='gray', vmin=0, vmax=255)\n",
    "plt.title(\"2. Na Morfsluiting (gaten dicht)\")\n",
    "plt.axis('off')\n",
    "\n",
    "# Stap 3: Detecteer en label rechthoeken (zonder tekstlabels)\n",
    "output_detected = cv2.cvtColor(img_closed, cv2.COLOR_GRAY2BGR)\n",
    "contours, _ = cv2.findContours(img_closed, cv2.RETR_EXTERNAL, cv2.CHAIN_APPROX_SIMPLE)\n",
    "\n",
    "for cnt in contours:\n",
    "    approx = cv2.approxPolyDP(cnt, 0.02 * cv2.arcLength(cnt, True), True)\n",
    "    x, y, w, h = cv2.boundingRect(cnt)\n",
    "    \n",
    "    if len(approx) == 4 and w * h > 1000:\n",
    "        # Teken alleen de bounding box zonder label\n",
    "        cv2.rectangle(output_detected, (x, y), (x+w, y+h), (0, 255, 0), 2)\n",
    "\n",
    "plt.subplot(1, 3, 3)\n",
    "plt.imshow(cv2.cvtColor(output_detected, cv2.COLOR_BGR2RGB))\n",
    "plt.title(\"3. Gedetecteerde Rechthoeken/Vierkanten\")\n",
    "plt.axis('off')\n",
    "\n",
    "plt.tight_layout()\n",
    "plt.show()"
   ]
  },
  {
   "cell_type": "markdown",
   "id": "fa1559f9",
   "metadata": {},
   "source": [
    "#### Uitleg\n",
    "\n",
    "In de originele afbeelding zijn vier witte vormen te zien: een vierkant, een rechthoek, een cirkel en een onregelmatige vierhoek.  \n",
    "In drie vorm is een zwart gat toegevoegd om een realistisch scenario te simuleren waarin er openingen of beschadigingen aanwezig zijn.\n",
    "\n",
    "Na het toepassen van **morfologische sluiting** worden deze gaten effectief opgevuld.  \n",
    "Hierdoor lijken de vormen weer volledig gesloten, wat gunstig is bij objectdetectie.\n",
    "\n",
    "Er ontstaat echter een probleem: sommige vormen liggen dicht bij elkaar.  \n",
    "Door de relatief grote kernel worden niet alleen de gaten gedicht, maar worden ook **twee afzonderlijke vormen onbedoeld met elkaar verbonden** (zoals de rechthoek en de vierhoek).\n",
    "\n",
    "Gevolg: het algoritme ziet dit als **één grote onregelmatige vorm**, terwijl het er in werkelijkheid twee zijn.  \n",
    "Omdat het systeem objecten classificeert op basis van hun **oppervlakte** en **aspect ratio**, wordt de oorspronkelijke logica hierdoor verstoord.  \n",
    "De structuur van het beeld is veranderd en dus werkt de detectie minder nauwkeurig.\n"
   ]
  }
 ],
 "metadata": {
  "kernelspec": {
   "display_name": "Python 3",
   "language": "python",
   "name": "python3"
  },
  "language_info": {
   "codemirror_mode": {
    "name": "ipython",
    "version": 3
   },
   "file_extension": ".py",
   "mimetype": "text/x-python",
   "name": "python",
   "nbconvert_exporter": "python",
   "pygments_lexer": "ipython3",
   "version": "3.12.7"
  }
 },
 "nbformat": 4,
 "nbformat_minor": 5
}
