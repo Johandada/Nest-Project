{
 "cells": [
  {
   "cell_type": "markdown",
   "id": "192920a11832ff8",
   "metadata": {
    "collapsed": false
   },
   "source": [
    "## Importeer benodigde libraies"
   ]
  },
  {
   "cell_type": "code",
   "id": "8e7a586966f75ce8",
   "metadata": {
    "collapsed": false,
    "jupyter": {
     "is_executing": true
    }
   },
   "source": [
    "import cv2\n",
    "import matplotlib.pyplot as plt\n",
    "import os\n",
    "import glob"
   ],
   "outputs": [],
   "execution_count": null
  },
  {
   "cell_type": "markdown",
   "id": "4f37673a0985557d",
   "metadata": {
    "collapsed": false
   },
   "source": [
    "#### Lees de afbeelding in en toon de originele geveltekening"
   ]
  },
  {
   "cell_type": "code",
   "execution_count": null,
   "id": "f8608bac81a35424",
   "metadata": {
    "ExecuteTime": {
     "end_time": "2025-05-07T11:50:01.440743400Z",
     "start_time": "2025-05-07T11:50:00.527765700Z"
    },
    "collapsed": false
   },
   "outputs": [],
   "source": [
    "## half_vrijstaand_type_e\n",
    "img = cv2.imread(r\"Data_nest_uitgesneden\\Data_nest_uitgesneden\\half_vrijstaand_type_e (1).png\")\n",
    "img = cv2.imread(r\"Data_nest_uitgesneden\\Data_nest_uitgesneden\\half_vrijstaand_type_e (3).png\")\n",
    "img = cv2.imread(r\"Data_nest_uitgesneden\\Data_nest_uitgesneden\\half_vrijstaand_type_e (4).png\")\n",
    "# img = cv2.imread(r\"Data_nest_uitgesneden\\Data_nest_uitgesneden\\half_vrijstaand_type_e (5).png\")\n"
   ]
  },
  {
   "cell_type": "code",
   "execution_count": null,
   "id": "49c1ce3eae29a07a",
   "metadata": {
    "ExecuteTime": {
     "end_time": "2025-05-07T11:50:02.543266500Z",
     "start_time": "2025-05-07T11:50:02.248320600Z"
    },
    "collapsed": false
   },
   "outputs": [],
   "source": [
    "# ## halfvrijestaande\n",
    "img = cv2.imread(r\"Data_nest_uitgesneden\\Data_nest_uitgesneden\\halfvrijestaande (1).png\")\n",
    "img = cv2.imread(r\"Data_nest_uitgesneden\\Data_nest_uitgesneden\\halfvrijestaande (2).png\")\n",
    "img = cv2.imread(r\"Data_nest_uitgesneden\\Data_nest_uitgesneden\\halfvrijestaande (3).png\")\n",
    "img = cv2.imread(r\"Data_nest_uitgesneden\\Data_nest_uitgesneden\\halfvrijestaande (4).png\")\n",
    "# img = cv2.imread(r\"Data_nest_uitgesneden\\Data_nest_uitgesneden\\halfvrijestaande (5).png\")"
   ]
  },
  {
   "cell_type": "code",
   "execution_count": null,
   "id": "6e72d1b6f6427569",
   "metadata": {
    "ExecuteTime": {
     "end_time": "2025-05-07T11:50:03.149672500Z",
     "start_time": "2025-05-07T11:50:02.845452800Z"
    },
    "collapsed": false
   },
   "outputs": [],
   "source": [
    "## levensloopwoning\n",
    "img = cv2.imread(r\"Data_nest_uitgesneden\\Data_nest_uitgesneden\\levensloopwoning (1).png\")\n",
    "img = cv2.imread(r\"Data_nest_uitgesneden\\Data_nest_uitgesneden\\levensloopwoning (2).png\")\n",
    "img = cv2.imread(r\"Data_nest_uitgesneden\\Data_nest_uitgesneden\\levensloopwoning (3).png\")\n",
    "img = cv2.imread(r\"Data_nest_uitgesneden\\Data_nest_uitgesneden\\levensloopwoning (4).png\")\n",
    "img = cv2.imread(r\"Data_nest_uitgesneden\\Data_nest_uitgesneden\\levensloopwoning (5).png\")"
   ]
  },
  {
   "cell_type": "code",
   "execution_count": null,
   "id": "abf3dfaf20ddf8cf",
   "metadata": {
    "ExecuteTime": {
     "end_time": "2025-05-07T11:50:04.725579600Z",
     "start_time": "2025-05-07T11:50:03.430715800Z"
    },
    "collapsed": false
   },
   "outputs": [],
   "source": [
    "## rijwoning\n",
    "img = cv2.imread(r\"Data_nest_uitgesneden\\Data_nest_uitgesneden\\rijwoning (1).png\")\n",
    "img = cv2.imread(r\"Data_nest_uitgesneden\\Data_nest_uitgesneden\\rijwoning (2).png\")\n",
    "img = cv2.imread(r\"Data_nest_uitgesneden\\Data_nest_uitgesneden\\rijwoning (3).png\")\n",
    "img = cv2.imread(r\"Data_nest_uitgesneden\\Data_nest_uitgesneden\\rijwoning (4).png\")\n",
    "img = cv2.imread(r\"Data_nest_uitgesneden\\Data_nest_uitgesneden\\rijwoning (5).png\")\n",
    "img = cv2.imread(r\"Data_nest_uitgesneden\\Data_nest_uitgesneden\\rijwoning (6).png\")\n",
    "img = cv2.imread(r\"Data_nest_uitgesneden\\Data_nest_uitgesneden\\rijwoning (7).png\")\n",
    "img = cv2.imread(r\"Data_nest_uitgesneden\\Data_nest_uitgesneden\\rijwoning (8).png\")\n",
    "img = cv2.imread(r\"Data_nest_uitgesneden\\Data_nest_uitgesneden\\rijwoning (9).png\")\n",
    "img = cv2.imread(r\"Data_nest_uitgesneden\\Data_nest_uitgesneden\\rijwoning (10).png\")"
   ]
  },
  {
   "cell_type": "code",
   "execution_count": null,
   "id": "3d2c0c83face5e9b",
   "metadata": {
    "ExecuteTime": {
     "end_time": "2025-05-07T11:50:05.095189100Z",
     "start_time": "2025-05-07T11:50:04.605552200Z"
    },
    "collapsed": false
   },
   "outputs": [],
   "source": [
    "# rugrug\n",
    "img = cv2.imread(r\"Data_nest_uitgesneden\\Data_nest_uitgesneden\\rug_rug (1).png\")\n",
    "img = cv2.imread(r\"Data_nest_uitgesneden\\Data_nest_uitgesneden\\rug_rug (2).png\")\n",
    "img = cv2.imread(r\"Data_nest_uitgesneden\\Data_nest_uitgesneden\\rug_rug (3).png\")\n",
    "img = cv2.imread(r\"Data_nest_uitgesneden\\Data_nest_uitgesneden\\rug_rug (4).png\")"
   ]
  },
  {
   "cell_type": "code",
   "execution_count": null,
   "id": "cf9070360b37b25c",
   "metadata": {
    "ExecuteTime": {
     "end_time": "2025-05-07T11:50:05.299860300Z",
     "start_time": "2025-05-07T11:50:05.098193500Z"
    },
    "collapsed": false
   },
   "outputs": [],
   "source": [
    "## vrijstaande woning\n",
    "img = cv2.imread(r\"Data_nest_uitgesneden\\Data_nest_uitgesneden\\vrijstaande_woning (1).png\")\n",
    "img = cv2.imread(r\"Data_nest_uitgesneden\\Data_nest_uitgesneden\\vrijstaande_woning (2).png\")\n",
    "img = cv2.imread(r\"Data_nest_uitgesneden\\Data_nest_uitgesneden\\vrijstaande_woning (3).png\")\n",
    "# img = cv2.imread(r\"Data_nest_uitgesneden\\Data_nest_uitgesneden\\vrijstaande_woning (4).png\")\n",
    "# img = cv2.imread(r\"Data_nest_uitgesneden\\Data_nest_uitgesneden\\vrijstaande_woning (5).png\")"
   ]
  },
  {
   "cell_type": "markdown",
   "id": "ef13ebe056629bd7",
   "metadata": {
    "collapsed": false
   },
   "source": [
    "Lees de afbeelding in zonder wijzigingen (inclusief alpha-kanaal als dat bestaat)\n"
   ]
  },
  {
   "cell_type": "code",
   "execution_count": null,
   "id": "78011a12",
   "metadata": {},
   "outputs": [],
   "source": [
    "# Lees de afbeelding in zonder wijzigingen (inclusief alpha-kanaal als dat bestaat)\n",
    "img = cv2.imread(r\"Data_nest_uitgesneden\\Data_nest_uitgesneden\\vrijstaande_woning (5).png\", cv2.IMREAD_UNCHANGED)\n",
    "print(f\"Afbeelding geladen. Formaat: {img.shape}\")"
   ]
  },
  {
   "cell_type": "markdown",
   "id": "3300b669",
   "metadata": {},
   "source": [
    "### **Analyse van de afbeelding**\n",
    "\n",
    "#### **Afmetingen (hoogte × breedte)**\n",
    "- **Hoogte**: 610 pixels (aantal rijen)  \n",
    "- **Breedte**: 845 pixels (aantal kolommen)  \n",
    "\n",
    "#### **Kleurenkanalen**\n",
    "- **Aantal kanalen**: 3 (BGR - Blauw, Groen, Rood)  \n",
    "- **Transparantie**: Geen alpha-kanaal aanwezig (`shape=(610, 845, 3)`)  \n",
    "  - Als er een 4e kanaal was (`shape=(610, 845, 4)`), zou dit een PNG met transparantie zijn.  \n",
    "\n",
    "#### **Conclusie**\n",
    "Dit is een standaard kleurenafbeelding **zonder transparantie**. Het alpha-kanaal ontbreekt, wat betekent dat alle pixels volledig dekkend zijn."
   ]
  },
  {
   "cell_type": "markdown",
   "id": "f1118ac7",
   "metadata": {},
   "source": [
    "Toon de orginele afbeelding"
   ]
  },
  {
   "cell_type": "code",
   "execution_count": null,
   "id": "6d491fd67d3f6e3c",
   "metadata": {
    "ExecuteTime": {
     "end_time": "2025-05-07T11:50:09.997857400Z",
     "start_time": "2025-05-07T11:50:07.838898300Z"
    },
    "collapsed": false
   },
   "outputs": [],
   "source": [
    "img_rgb = cv2.cvtColor(img, cv2.COLOR_BGR2RGB) # Zet BGR naar RGB om correct weer te geven met matplotlib\n",
    "# Toon de originele afbeelding \n",
    "plt.imshow(img_rgb)\n",
    "plt.title(\"Originele Geveltekening\")\n",
    "plt.axis('off')\n",
    "plt.show()"
   ]
  },
  {
   "cell_type": "markdown",
   "id": "e92ac233e0c8dfc7",
   "metadata": {
    "collapsed": false
   },
   "source": [
    "#### Zet de afbeelding om naar grijswaarden.\n",
    "\n",
    "Om de afbeelding geschikt te maken voor randdetectie, zetten we het om naar grijswaarden"
   ]
  },
  {
   "cell_type": "code",
   "execution_count": null,
   "id": "e2bae3f74667874b",
   "metadata": {
    "ExecuteTime": {
     "end_time": "2025-05-07T11:50:18.002150400Z",
     "start_time": "2025-05-07T11:50:16.663635400Z"
    },
    "collapsed": false
   },
   "outputs": [],
   "source": [
    "gray = cv2.cvtColor(img, cv2.COLOR_BGR2GRAY)\n",
    "\n",
    "plt.imshow(gray, cmap='gray')\n",
    "plt.title(\"Grijswaardenversie\")\n",
    "plt.axis('off')\n",
    "plt.show()"
   ]
  },
  {
   "cell_type": "markdown",
   "id": "b554b4a8182e8737",
   "metadata": {
    "collapsed": false
   },
   "source": [
    "#### Toepassing van Gaussian Blur\n",
    "\n",
    "We vervagen de afbeelding licht, om kleine ruis te verwijderen en scherper randdetectie te kijgen."
   ]
  },
  {
   "cell_type": "code",
   "execution_count": null,
   "id": "613bd143f9c5c715",
   "metadata": {
    "ExecuteTime": {
     "end_time": "2025-05-07T11:50:24.403597700Z",
     "start_time": "2025-05-07T11:50:21.917645900Z"
    },
    "collapsed": false
   },
   "outputs": [],
   "source": [
    "blur = cv2.GaussianBlur(gray, (13, 13), 2)\n",
    "\n",
    "plt.imshow(blur, cmap='gray')\n",
    "plt.title(\"Na Gaussian Blur\")\n",
    "plt.axis('off')\n",
    "plt.show()"
   ]
  },
  {
   "cell_type": "markdown",
   "id": "de787f7beab856fa",
   "metadata": {
    "collapsed": false
   },
   "source": [
    "#### Deteteer randen met Canny"
   ]
  },
  {
   "cell_type": "code",
   "execution_count": null,
   "id": "3d7cb3f00809299d",
   "metadata": {
    "ExecuteTime": {
     "end_time": "2025-05-07T11:50:30.118066900Z",
     "start_time": "2025-05-07T11:50:28.786666600Z"
    },
    "collapsed": false
   },
   "outputs": [],
   "source": [
    "edges = cv2.Canny(blur, 50, 150)\n",
    "\n",
    "plt.imshow(edges, cmap='gray')\n",
    "plt.title(\"Canny Randen\")\n",
    "plt.axis('off')\n",
    "plt.show()"
   ]
  },
  {
   "cell_type": "markdown",
   "id": "77867a3addd71057",
   "metadata": {
    "collapsed": false
   },
   "source": [
    "#### Vinden en visualiseer contouren"
   ]
  },
  {
   "cell_type": "code",
   "execution_count": null,
   "id": "ad817a74c8a4209b",
   "metadata": {
    "ExecuteTime": {
     "end_time": "2025-05-07T11:50:34.013483Z",
     "start_time": "2025-05-07T11:50:33.660809100Z"
    },
    "collapsed": false
   },
   "outputs": [],
   "source": [
    "contours, _ = cv2.findContours(edges, cv2.RETR_EXTERNAL, cv2.CHAIN_APPROX_SIMPLE)\n",
    "\n",
    "image_with_contours = img.copy()# Maak een kopie van de originele afbeelding om op te tekenen\n",
    "cv2.drawContours(image_with_contours, contours, -1, (0, 255, 0), 2)  # Groene contouren\n",
    "\n",
    "plt.imshow(image_with_contours)\n",
    "plt.title(\"Contouromtrek van het huis\")\n",
    "plt.axis('off')\n",
    "plt.show()"
   ]
  },
  {
   "cell_type": "markdown",
   "id": "90c0e536",
   "metadata": {},
   "source": [
    "#### Alle geveltekeningen detcteren in ëën cel"
   ]
  },
  {
   "cell_type": "code",
   "id": "63909001",
   "metadata": {
    "jupyter": {
     "is_executing": true
    }
   },
   "source": [
    "input_dir = r\"Data_nest_uitgesneden\\Data_nest_uitgesneden\"\n",
    "output_dir = os.path.join(input_dir, \"Resultaten_met_Contouren\")\n",
    "os.makedirs(output_dir, exist_ok=True)\n",
    "\n",
    "# Zoek alle PNG-bestanden, ongeacht hoofdletters, inclusief submappen\n",
    "image_paths = glob.glob(os.path.join(input_dir, \"**\", \"*.[pP][nN][gG]\"), recursive=True)\n",
    "\n",
    "print(f\"Gevonden bestanden: {len(image_paths)}\")\n",
    "\n",
    "def process_and_save_final(image_path):\n",
    "    filename = os.path.splitext(os.path.basename(image_path))[0]\n",
    "    img = cv2.imread(image_path)\n",
    "    if img is None:\n",
    "        print(f\"Fout bij laden: {image_path}\")\n",
    "        return\n",
    "\n",
    "    gray = cv2.cvtColor(img, cv2.COLOR_BGR2GRAY)\n",
    "    blur = cv2.GaussianBlur(gray, (13, 13), 2)\n",
    "    edges = cv2.Canny(blur, 50, 150)\n",
    "    contours, _ = cv2.findContours(edges, cv2.RETR_EXTERNAL, cv2.CHAIN_APPROX_SIMPLE)\n",
    "\n",
    "    image_with_contours = img.copy()\n",
    "    cv2.drawContours(image_with_contours, contours, -1, (0, 255, 0), 2)\n",
    "\n",
    "    output_path = os.path.join(output_dir, f\"{filename}_contours.png\")\n",
    "    cv2.imwrite(output_path, image_with_contours)\n",
    "    print(f\"Opgeslagen: {output_path}\")\n",
    "\n",
    "# Verwerk alle gevonden afbeeldingen\n",
    "for path in image_paths:\n",
    "    process_and_save_final(path)"
   ],
   "outputs": [],
   "execution_count": null
  },
  {
   "metadata": {},
   "cell_type": "code",
   "outputs": [],
   "execution_count": null,
   "source": "",
   "id": "d3638b2c65f17b35"
  }
 ],
 "metadata": {
  "kernelspec": {
   "display_name": "Python 3",
   "language": "python",
   "name": "python3"
  },
  "language_info": {
   "codemirror_mode": {
    "name": "ipython",
    "version": 3
   },
   "file_extension": ".py",
   "mimetype": "text/x-python",
   "name": "python",
   "nbconvert_exporter": "python",
   "pygments_lexer": "ipython3",
   "version": "3.12.7"
  }
 },
 "nbformat": 4,
 "nbformat_minor": 5
}
